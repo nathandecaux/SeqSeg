{
 "cells": [
  {
   "cell_type": "code",
   "execution_count": 23,
   "metadata": {},
   "outputs": [
    {
     "name": "stdout",
     "output_type": "stream",
     "text": [
      "[{0.5217391304347826: 92.83413290977478, 'model': 'Propagation'}]\n"
     ]
    },
    {
     "data": {
      "text/html": [
       "<div>\n",
       "<style scoped>\n",
       "    .dataframe tbody tr th:only-of-type {\n",
       "        vertical-align: middle;\n",
       "    }\n",
       "\n",
       "    .dataframe tbody tr th {\n",
       "        vertical-align: top;\n",
       "    }\n",
       "\n",
       "    .dataframe thead th {\n",
       "        text-align: right;\n",
       "    }\n",
       "</style>\n",
       "<table border=\"1\" class=\"dataframe\">\n",
       "  <thead>\n",
       "    <tr style=\"text-align: right;\">\n",
       "      <th></th>\n",
       "      <th>0.521739</th>\n",
       "      <th>0.369565</th>\n",
       "      <th>0.239130</th>\n",
       "      <th>0.130435</th>\n",
       "      <th>0.086957</th>\n",
       "      <th>0.065217</th>\n",
       "      <th>0.043478</th>\n",
       "    </tr>\n",
       "    <tr>\n",
       "      <th>model</th>\n",
       "      <th></th>\n",
       "      <th></th>\n",
       "      <th></th>\n",
       "      <th></th>\n",
       "      <th></th>\n",
       "      <th></th>\n",
       "      <th></th>\n",
       "    </tr>\n",
       "  </thead>\n",
       "  <tbody>\n",
       "    <tr>\n",
       "      <th>Propagation</th>\n",
       "      <td>92.834133</td>\n",
       "      <td>92.302477</td>\n",
       "      <td>91.378564</td>\n",
       "      <td>88.041443</td>\n",
       "      <td>82.617098</td>\n",
       "      <td>79.177779</td>\n",
       "      <td>50.711927</td>\n",
       "    </tr>\n",
       "  </tbody>\n",
       "</table>\n",
       "</div>"
      ],
      "text/plain": [
       "              0.521739   0.369565   0.239130   0.130435   0.086957   0.065217  \\\n",
       "model                                                                           \n",
       "Propagation  92.834133  92.302477  91.378564  88.041443  82.617098  79.177779   \n",
       "\n",
       "              0.043478  \n",
       "model                   \n",
       "Propagation  50.711927  "
      ]
     },
     "execution_count": 23,
     "metadata": {},
     "output_type": "execute_result"
    }
   ],
   "source": [
    "import pandas as pd\n",
    "import json\n",
    "def get_index(n):\n",
    "    return n/46\n",
    "with open('results.json') as f:\n",
    "    df=json.load(f)['DMD']\n",
    "names={'up':'up','down':'down','weighted':'combined'}\n",
    "data=dict()\n",
    "annot=[24,17,11,6,4,3,2]\n",
    "for n,i in enumerate(['2','3','5','10','20','40','46']):\n",
    "    data[i]=[]\n",
    "    for res in df[i]:\n",
    "        # line={'r':i}\n",
    "        line={}\n",
    "        losses=res['losses']\n",
    "        f_loss=dict()\n",
    "        way=res['way']\n",
    "        if way=='both':\n",
    "            for metric in ['weighted']:\n",
    "                line={}\n",
    "                losses=res['losses']\n",
    "                f_loss=dict()\n",
    "                line[get_index(annot[n])]=res['dice_'+metric]*100\n",
    "                # line['hauss']=res['hauss_'+metric]\n",
    "                # line['asd']=res['asd_'+metric]\n",
    "                # line['bidir-cons-reg']=losses['bidir-cons-reg']\n",
    "                # line['bidir-cons-dice']=losses['bidir-cons-dice']\n",
    "                line['model']='Propagation'#names[metric]\n",
    "                # del res['losses']\n",
    "                line.update(f_loss)\n",
    "                # for i,way in enumerate(['up','down','combined']):\n",
    "                #     if way==line['way']: line['way']=f'{i}-{way}'\n",
    "                data[i].append(line)\n",
    "print(data['2'])\n",
    "# for i in df.keys():\n",
    "truc=pd.DataFrame(data['2'])\n",
    "truc.sort_values('model',ascending=False,inplace=True)\n",
    "\n",
    "table=truc.groupby(['model'],sort=True).mean()\n",
    "table\n",
    "for i in ['3','5','10','20','40','46']:\n",
    "    if i!='2':\n",
    "        truc=pd.DataFrame(data[i])\n",
    "        truc.sort_values('model',ascending=False,inplace=True)\n",
    "\n",
    "        truc=truc.groupby(['model'],sort=True).mean()\n",
    "        table=pd.concat([table,truc],axis=1)\n",
    "table#.T.plot()#.to_excel('res_dmd_bidir.xlsx')\n",
    "\n"
   ]
  },
  {
   "cell_type": "code",
   "execution_count": 26,
   "metadata": {},
   "outputs": [
    {
     "name": "stdout",
     "output_type": "stream",
     "text": [
      "[{0.5217391304347826: 88.98307196419648, 'model': 'UNet'}]\n"
     ]
    },
    {
     "data": {
      "text/plain": [
       "<AxesSubplot:>"
      ]
     },
     "execution_count": 26,
     "metadata": {},
     "output_type": "execute_result"
    },
    {
     "data": {
      "image/png": "[encoded data removed]",
      "text/plain": [
       "<Figure size 432x288 with 1 Axes>"
      ]
     },
     "metadata": {
      "needs_background": "light"
     },
     "output_type": "display_data"
    }
   ],
   "source": [
    "import pandas as pd\n",
    "import json\n",
    "\n",
    "with open('results_unet.json') as f:\n",
    "    df=json.load(f)['DMD']\n",
    "names={'up':'up','down':'down','weighted':'combined'}\n",
    "data=dict()\n",
    "annot=[24,17,11,6,4,3,2]\n",
    "for n,i in enumerate(['2','3','5','10','20','40','46']):\n",
    "    data[i]=[]\n",
    "    res=df[i]\n",
    "    # line={'r':i}\n",
    "    line={}\n",
    "    for metric in ['up']:\n",
    "        line={}\n",
    "        line[get_index(annot[n])]=res['dice_'+metric]*100\n",
    "        line['model']='UNet'\n",
    "        # line['hauss']=res['hauss_'+metric]\n",
    "        # line['asd']=res['asd_'+metric]\n",
    "        # line['bidir-cons-reg']=losses['bidir-cons-reg']\n",
    "        # line['bidir-cons-dice']=losses['bidir-cons-dice']\n",
    "        # del res['losses']\n",
    "        # for i,way in enumerate(['up','down','combined']):\n",
    "        #     if way==line['way']: line['way']=f'{i}-{way}'\n",
    "        data[i].append(line)\n",
    "print(data['2'])\n",
    "# for i in df.keys():\n",
    "truc=pd.DataFrame(data['2'])\n",
    "truc.sort_values('model',ascending=False,inplace=True)\n",
    "\n",
    "table_unet=truc.groupby(['model'],sort=True).mean()\n",
    "for i in ['3','5','10','20','40','46']:\n",
    "    if i!='2':\n",
    "        truc=pd.DataFrame(data[i])\n",
    "        truc.sort_values('model',ascending=False,inplace=True)\n",
    "\n",
    "        truc=truc.groupby(['model'],sort=True).mean()\n",
    "        table_unet=pd.concat([table_unet,truc],axis=1)\n",
    "table_unet.T.plot()#.to_excel('res_dmd_bidir.xlsx')\n"
   ]
  },
  {
   "cell_type": "code",
   "execution_count": 31,
   "metadata": {},
   "outputs": [
    {
     "name": "stdout",
     "output_type": "stream",
     "text": [
      "[{0.5217391304347826: 89.8388727599584, 'model': 'Nearest-interpolation'}]\n"
     ]
    },
    {
     "data": {
      "text/html": [
       "<div>\n",
       "<style scoped>\n",
       "    .dataframe tbody tr th:only-of-type {\n",
       "        vertical-align: middle;\n",
       "    }\n",
       "\n",
       "    .dataframe tbody tr th {\n",
       "        vertical-align: top;\n",
       "    }\n",
       "\n",
       "    .dataframe thead th {\n",
       "        text-align: right;\n",
       "    }\n",
       "</style>\n",
       "<table border=\"1\" class=\"dataframe\">\n",
       "  <thead>\n",
       "    <tr style=\"text-align: right;\">\n",
       "      <th></th>\n",
       "      <th>0.521739</th>\n",
       "      <th>0.369565</th>\n",
       "      <th>0.239130</th>\n",
       "      <th>0.130435</th>\n",
       "      <th>0.086957</th>\n",
       "      <th>0.065217</th>\n",
       "      <th>0.043478</th>\n",
       "    </tr>\n",
       "    <tr>\n",
       "      <th>model</th>\n",
       "      <th></th>\n",
       "      <th></th>\n",
       "      <th></th>\n",
       "      <th></th>\n",
       "      <th></th>\n",
       "      <th></th>\n",
       "      <th></th>\n",
       "    </tr>\n",
       "  </thead>\n",
       "  <tbody>\n",
       "    <tr>\n",
       "      <th>Nearest-interpolation</th>\n",
       "      <td>89.838873</td>\n",
       "      <td>87.716453</td>\n",
       "      <td>83.034139</td>\n",
       "      <td>76.980069</td>\n",
       "      <td>63.679787</td>\n",
       "      <td>60.829412</td>\n",
       "      <td>42.066056</td>\n",
       "    </tr>\n",
       "  </tbody>\n",
       "</table>\n",
       "</div>"
      ],
      "text/plain": [
       "                        0.521739   0.369565   0.239130   0.130435   0.086957  \\\n",
       "model                                                                          \n",
       "Nearest-interpolation  89.838873  87.716453  83.034139  76.980069  63.679787   \n",
       "\n",
       "                        0.065217   0.043478  \n",
       "model                                        \n",
       "Nearest-interpolation  60.829412  42.066056  "
      ]
     },
     "execution_count": 31,
     "metadata": {},
     "output_type": "execute_result"
    }
   ],
   "source": [
    "import pandas as pd\n",
    "import json\n",
    "\n",
    "with open('results_interp.json') as f:\n",
    "    df=json.load(f)['DMD']\n",
    "names={'up':'up','down':'down','weighted':'combined'}\n",
    "data=dict()\n",
    "annot=[24,17,11,6,4,3,2]\n",
    "for n,i in enumerate(['2','3','5','10','20','40','46']):\n",
    "    data[i]=[]\n",
    "    res=df[i]\n",
    "    # line={'r':i}\n",
    "    line={}\n",
    "    for metric in ['up']:\n",
    "        line={}\n",
    "        line[get_index(annot[n])]=res['dice_'+metric]*100\n",
    "        line['model']='Nearest-interpolation'\n",
    "        # line['hauss']=res['hauss_'+metric]\n",
    "        # line['asd']=res['asd_'+metric]\n",
    "        # line['bidir-cons-reg']=losses['bidir-cons-reg']\n",
    "        # line['bidir-cons-dice']=losses['bidir-cons-dice']\n",
    "        # del res['losses']\n",
    "        # for i,way in enumerate(['up','down','combined']):\n",
    "        #     if way==line['way']: line['way']=f'{i}-{way}'\n",
    "        data[i].append(line)\n",
    "print(data['2'])\n",
    "# for i in df.keys():\n",
    "truc=pd.DataFrame(data['2'])\n",
    "truc.sort_values('model',ascending=False,inplace=True)\n",
    "\n",
    "table_interp=truc.groupby(['model'],sort=True).mean()\n",
    "for i in ['3','5','10','20','40','46']:\n",
    "    if i!='2':\n",
    "        truc=pd.DataFrame(data[i])\n",
    "        truc.sort_values('model',ascending=False,inplace=True)\n",
    "\n",
    "        truc=truc.groupby(['model'],sort=True).mean()\n",
    "        table_interp=pd.concat([table_interp,truc],axis=1)\n",
    "table_interp#.T.plot()#.to_excel('res_dmd_bidir.xlsx')"
   ]
  },
  {
   "cell_type": "code",
   "execution_count": 32,
   "metadata": {},
   "outputs": [
    {
     "data": {
      "text/plain": [
       "<AxesSubplot:>"
      ]
     },
     "execution_count": 32,
     "metadata": {},
     "output_type": "execute_result"
    },
    {
     "data": {
      "image/png": "[encoded data removed]",
      "text/plain": [
       "<Figure size 432x288 with 1 Axes>"
      ]
     },
     "metadata": {
      "needs_background": "light"
     },
     "output_type": "display_data"
    }
   ],
   "source": [
    "table_full=pd.concat([table,table_unet,table_interp])\n",
    "table_full.T.plot()"
   ]
  },
  {
   "cell_type": "code",
   "execution_count": null,
   "metadata": {},
   "outputs": [],
   "source": []
  }
 ],
 "metadata": {
  "interpreter": {
   "hash": "f67965d34616602242e8f17bb0855fa80e92d0581594d90d19de1c10786cc393"
  },
  "kernelspec": {
   "display_name": "Python 3.8.2 ('segbench')",
   "language": "python",
   "name": "python3"
  },
  "language_info": {
   "codemirror_mode": {
    "name": "ipython",
    "version": 3
   },
   "file_extension": ".py",
   "mimetype": "text/x-python",
   "name": "python",
   "nbconvert_exporter": "python",
   "pygments_lexer": "ipython3",
   "version": "3.8.12"
  },
  "orig_nbformat": 4
 },
 "nbformat": 4,
 "nbformat_minor": 2
}
