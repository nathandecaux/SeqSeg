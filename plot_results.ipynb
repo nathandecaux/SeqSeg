{
 "cells": [
  {
   "cell_type": "code",
   "execution_count": 17,
   "metadata": {},
   "outputs": [
    {
     "name": "stdout",
     "output_type": "stream",
     "text": [
      "[{24: 93.00146698951721, 'way': 'up'}, {24: 93.37740540504456, 'way': 'down'}, {24: 92.83413290977478, 'way': 'combined'}]\n"
     ]
    },
    {
     "data": {
      "text/plain": [
       "<AxesSubplot:>"
      ]
     },
     "execution_count": 17,
     "metadata": {},
     "output_type": "execute_result"
    },
    {
     "data": {
      "image/png": "[encoded data removed]",
      "text/plain": [
       "<Figure size 432x288 with 1 Axes>"
      ]
     },
     "metadata": {
      "needs_background": "light"
     },
     "output_type": "display_data"
    }
   ],
   "source": [
    "import pandas as pd\n",
    "import json\n",
    "\n",
    "with open('results.json') as f:\n",
    "    df=json.load(f)['DMD']\n",
    "names={'up':'up','down':'down','weighted':'combined'}\n",
    "data=dict()\n",
    "annot=[24,17,11,6,4,3,2]\n",
    "for n,i in enumerate(['2','3','5','10','20','40','46']):\n",
    "    data[i]=[]\n",
    "    for res in df[i]:\n",
    "        # line={'r':i}\n",
    "        line={}\n",
    "        losses=res['losses']\n",
    "        f_loss=dict()\n",
    "        way=res['way']\n",
    "        if way=='both':\n",
    "            for metric in ['up','down','weighted']:\n",
    "                line={}\n",
    "                losses=res['losses']\n",
    "                f_loss=dict()\n",
    "                line[annot[n]]=res['dice_'+metric]*100\n",
    "                # line['hauss']=res['hauss_'+metric]\n",
    "                # line['asd']=res['asd_'+metric]\n",
    "                # line['bidir-cons-reg']=losses['bidir-cons-reg']\n",
    "                # line['bidir-cons-dice']=losses['bidir-cons-dice']\n",
    "                line['way']=names[metric]\n",
    "                # del res['losses']\n",
    "                line.update(f_loss)\n",
    "                # for i,way in enumerate(['up','down','combined']):\n",
    "                #     if way==line['way']: line['way']=f'{i}-{way}'\n",
    "                data[i].append(line)\n",
    "print(data['2'])\n",
    "# for i in df.keys():\n",
    "truc=pd.DataFrame(data['2'])\n",
    "truc.sort_values('way',ascending=False,inplace=True)\n",
    "\n",
    "table=truc.groupby(['way'],sort=True).mean()\n",
    "table\n",
    "for i in ['3','5','10','20','40','46']:\n",
    "    if i!='2':\n",
    "        truc=pd.DataFrame(data[i])\n",
    "        truc.sort_values('way',ascending=False,inplace=True)\n",
    "\n",
    "        truc=truc.groupby(['way'],sort=True).mean()\n",
    "        table=pd.concat([table,truc],axis=1)\n",
    "table.T.plot()#.to_excel('res_dmd_bidir.xlsx')\n",
    "\n"
   ]
  }
 ],
 "metadata": {
  "interpreter": {
   "hash": "f67965d34616602242e8f17bb0855fa80e92d0581594d90d19de1c10786cc393"
  },
  "kernelspec": {
   "display_name": "Python 3.8.2 ('segbench')",
   "language": "python",
   "name": "python3"
  },
  "language_info": {
   "codemirror_mode": {
    "name": "ipython",
    "version": 3
   },
   "file_extension": ".py",
   "mimetype": "text/x-python",
   "name": "python",
   "nbconvert_exporter": "python",
   "pygments_lexer": "ipython3",
   "version": "3.8.2"
  },
  "orig_nbformat": 4
 },
 "nbformat": 4,
 "nbformat_minor": 2
}
